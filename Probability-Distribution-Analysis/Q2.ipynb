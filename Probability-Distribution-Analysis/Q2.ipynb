{
  "nbformat": 4,
  "nbformat_minor": 0,
  "metadata": {
    "colab": {
      "provenance": []
    },
    "kernelspec": {
      "name": "python3",
      "display_name": "Python 3"
    },
    "language_info": {
      "name": "python"
    }
  },
  "cells": [
    {
      "cell_type": "markdown",
      "source": [
        "**Question 2**"
      ],
      "metadata": {
        "id": "9Tm7VRpo76IC"
      }
    },
    {
      "cell_type": "markdown",
      "source": [
        "part 1\n"
      ],
      "metadata": {
        "id": "WYdD36S07_bV"
      }
    },
    {
      "cell_type": "code",
      "execution_count": null,
      "metadata": {
        "id": "7OLu94WX71J0"
      },
      "outputs": [],
      "source": [
        "import random\n",
        "\n",
        "def our_sample_function(n, k):\n",
        "  results = list()\n",
        "  for i in range(k):\n",
        "    state_list = list()\n",
        "    for j in range(n):\n",
        "      state_list.append(\"False\")\n",
        "\n",
        "    temp_res = 0\n",
        "    while \"False\" in state_list:\n",
        "      temp_ind = random.randint(0, n-1)\n",
        "      state_list[temp_ind] = \"True\"\n",
        "      temp_res += 1\n",
        "    results.append(temp_res)\n",
        "\n",
        "  average = sum(results)/len(results)\n",
        "  return average"
      ]
    },
    {
      "cell_type": "markdown",
      "source": [
        "part 2"
      ],
      "metadata": {
        "id": "SU1o39pc8I62"
      }
    },
    {
      "cell_type": "markdown",
      "source": [
        "می بینیم که مقادیر به سمت عدد 30 همگرا می شوند"
      ],
      "metadata": {
        "id": "NcDiPGSq8LjA"
      }
    },
    {
      "cell_type": "code",
      "source": [
        "first_t = our_sample_function(10, 10)\n",
        "second_t = our_sample_function(10, 100)\n",
        "third_t = our_sample_function(10, 1000)\n",
        "\n",
        "print(first_t, second_t, third_t)"
      ],
      "metadata": {
        "colab": {
          "base_uri": "https://localhost:8080/"
        },
        "id": "PbqcVMA98Jvh",
        "outputId": "b5161d69-7ffc-41d3-a424-1d3f5b6a86c4"
      },
      "execution_count": null,
      "outputs": [
        {
          "output_type": "stream",
          "name": "stdout",
          "text": [
            "32.5 29.53 29.763\n"
          ]
        }
      ]
    },
    {
      "cell_type": "markdown",
      "source": [
        "part 3"
      ],
      "metadata": {
        "id": "o5JfX4W28THh"
      }
    },
    {
      "cell_type": "markdown",
      "source": [
        "اگر تعداد کل کالابرگ ها خیلی زیاد باشد یکسان است ولی اگر تعداد محدود باشد یکسان نیست مثلا ما نوع 1 2 3 4 را دیده ایم حالا برای اینکه اولین بار نوع 5 را ببینیم در کل کالابرگ ها کالابرگ نوع 5 بیشتری وجود دارد پس احتمال برداشتن آن بیشتر از بقیه خواهد بود"
      ],
      "metadata": {
        "id": "WToHrmg78UEP"
      }
    },
    {
      "cell_type": "code",
      "source": [
        "import sympy as sp\n",
        "import math\n",
        "\n",
        "s = sp.symbols('s')\n",
        "n = sp.symbols('n')\n",
        "i = sp.symbols('i')\n",
        "\n",
        "prob_Xi = (n - i + 1) / n\n",
        "prob_Xi"
      ],
      "metadata": {
        "colab": {
          "base_uri": "https://localhost:8080/",
          "height": 51
        },
        "id": "YjS1SEqY8YnY",
        "outputId": "8550f031-113d-40d2-e31f-252e5aa1ac08"
      },
      "execution_count": null,
      "outputs": [
        {
          "output_type": "execute_result",
          "data": {
            "text/plain": [
              "(-i + n + 1)/n"
            ],
            "text/latex": "$\\displaystyle \\frac{- i + n + 1}{n}$"
          },
          "metadata": {},
          "execution_count": 5
        }
      ]
    },
    {
      "cell_type": "code",
      "source": [
        "import sympy as sp\n",
        "MGF_of_Xi = (prob_Xi * (sp.E ** s)) / (1 - ((1 - prob_Xi)*(sp.E ** s)))\n",
        "MGF_of_Xi"
      ],
      "metadata": {
        "colab": {
          "base_uri": "https://localhost:8080/",
          "height": 60
        },
        "id": "cksSvdL28eYT",
        "outputId": "85768837-5b94-42cf-9a4d-42bdc112720b"
      },
      "execution_count": null,
      "outputs": [
        {
          "output_type": "execute_result",
          "data": {
            "text/plain": [
              "(-i + n + 1)*exp(s)/(n*(-(1 - (-i + n + 1)/n)*exp(s) + 1))"
            ],
            "text/latex": "$\\displaystyle \\frac{\\left(- i + n + 1\\right) e^{s}}{n \\left(- \\left(1 - \\frac{- i + n + 1}{n}\\right) e^{s} + 1\\right)}$"
          },
          "metadata": {},
          "execution_count": 6
        }
      ]
    },
    {
      "cell_type": "code",
      "source": [
        "num = 10\n",
        "\n",
        "for j in range(1, num + 1):\n",
        "  temp_prob = (num - j + 1) / num\n",
        "  temp_mgf = (temp_prob * (math.e ** s)) / (1 - ((1 - temp_prob)*(math.e ** s)))\n",
        "  print(\"MGF of X\", j ,\"=\", temp_mgf)"
      ],
      "metadata": {
        "colab": {
          "base_uri": "https://localhost:8080/"
        },
        "id": "r6t-Sx1t8hiF",
        "outputId": "d7fa037c-7b8c-4027-941c-ed47e1a0dd84"
      },
      "execution_count": null,
      "outputs": [
        {
          "output_type": "stream",
          "name": "stdout",
          "text": [
            "MGF of X 1 = 1.0*2.71828182845905**s\n",
            "MGF of X 2 = 0.9*2.71828182845905**s/(1 - 0.1*2.71828182845905**s)\n",
            "MGF of X 3 = 0.8*2.71828182845905**s/(1 - 0.2*2.71828182845905**s)\n",
            "MGF of X 4 = 0.7*2.71828182845905**s/(1 - 0.3*2.71828182845905**s)\n",
            "MGF of X 5 = 0.6*2.71828182845905**s/(1 - 0.4*2.71828182845905**s)\n",
            "MGF of X 6 = 0.5*2.71828182845905**s/(1 - 0.5*2.71828182845905**s)\n",
            "MGF of X 7 = 0.4*2.71828182845905**s/(1 - 0.6*2.71828182845905**s)\n",
            "MGF of X 8 = 0.3*2.71828182845905**s/(1 - 0.7*2.71828182845905**s)\n",
            "MGF of X 9 = 0.2*2.71828182845905**s/(1 - 0.8*2.71828182845905**s)\n",
            "MGF of X 10 = 0.1*2.71828182845905**s/(1 - 0.9*2.71828182845905**s)\n"
          ]
        }
      ]
    },
    {
      "cell_type": "markdown",
      "source": [
        "part 4"
      ],
      "metadata": {
        "id": "jwiyzoik8jt4"
      }
    },
    {
      "cell_type": "markdown",
      "source": [
        "با توجه به خواص تابع مولد گشتاور، تابع مولد گشتاور توزیعی که از حاصل جمع چند متغیر تصادفی مستقل تشکیل شده است از حاصلضرب توابع مولد گشتاور آنها محاسبه می شود"
      ],
      "metadata": {
        "id": "-1ukMA8G8qAW"
      }
    },
    {
      "cell_type": "code",
      "source": [
        "MGF_of_X = sp.Product(MGF_of_Xi, (i , 1 , n))\n",
        "MGF_of_X"
      ],
      "metadata": {
        "colab": {
          "base_uri": "https://localhost:8080/",
          "height": 67
        },
        "id": "1AB4D-1s8mz0",
        "outputId": "da85744e-8179-4e7f-f4d2-5a0be094582e"
      },
      "execution_count": null,
      "outputs": [
        {
          "output_type": "execute_result",
          "data": {
            "text/plain": [
              "Product((-i + n + 1)*exp(s)/(n*(-(1 - (-i + n + 1)/n)*exp(s) + 1)), (i, 1, n))"
            ],
            "text/latex": "$\\displaystyle \\prod_{i=1}^{n} \\frac{\\left(- i + n + 1\\right) e^{s}}{n \\left(- \\left(1 - \\frac{- i + n + 1}{n}\\right) e^{s} + 1\\right)}$"
          },
          "metadata": {},
          "execution_count": 8
        }
      ]
    },
    {
      "cell_type": "markdown",
      "source": [
        "part 5"
      ],
      "metadata": {
        "id": "WUy3oYu_8uE5"
      }
    },
    {
      "cell_type": "markdown",
      "source": [
        "با توجه به خواص تابع مولد گشتاور، مشتق اول آن در نقطه ی 0 برابر میانگین متغیر تصادفی خواهد بود که همانطور که انتظار می رفت بسیار نزدیک به پاسخ قسمت (ب) است"
      ],
      "metadata": {
        "id": "aULafFIA8wAv"
      }
    },
    {
      "cell_type": "code",
      "source": [
        "Expectation_X = sp.diff(MGF_of_X, s).subs({n : 10, s : 0}).evalf()\n",
        "print(Expectation_X)"
      ],
      "metadata": {
        "id": "CehN6QYp8zF-",
        "outputId": "1133780d-4382-4f39-c24d-7998eca0c7be",
        "colab": {
          "base_uri": "https://localhost:8080/"
        }
      },
      "execution_count": null,
      "outputs": [
        {
          "output_type": "stream",
          "name": "stdout",
          "text": [
            "29.2896825396825\n"
          ]
        }
      ]
    }
  ]
}