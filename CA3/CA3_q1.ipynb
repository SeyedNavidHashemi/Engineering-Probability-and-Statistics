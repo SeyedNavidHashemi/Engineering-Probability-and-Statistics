{
  "nbformat": 4,
  "nbformat_minor": 0,
  "metadata": {
    "colab": {
      "provenance": []
    },
    "kernelspec": {
      "name": "python3",
      "display_name": "Python 3"
    },
    "language_info": {
      "name": "python"
    }
  },
  "cells": [
    {
      "cell_type": "markdown",
      "source": [],
      "metadata": {
        "id": "GFtTNmBR-d0X"
      }
    },
    {
      "cell_type": "code",
      "execution_count": null,
      "metadata": {
        "id": "3VvOI0UhLOYO"
      },
      "outputs": [],
      "source": [
        "import numpy as np, random\n",
        "def set_seed(seed):\n",
        "  np.random.seed(seed)\n",
        "  random.seed(seed)\n",
        "set_seed(810109203)"
      ]
    },
    {
      "cell_type": "markdown",
      "source": [
        "#loading test dataset"
      ],
      "metadata": {
        "id": "c9N4YAFssyh3"
      }
    },
    {
      "cell_type": "code",
      "source": [
        "from keras.datasets import mnist\n",
        "(_, _) , (test_images, _) = mnist.load_data()\n",
        "test_images = test_images.reshape(test_images.shape[0] , -1)\n",
        "test_images = test_images.astype('float32') / 255.0"
      ],
      "metadata": {
        "id": "MauvaDguQrVE"
      },
      "execution_count": null,
      "outputs": []
    },
    {
      "cell_type": "markdown",
      "source": [
        "#loading pre_trained autoencoder"
      ],
      "metadata": {
        "id": "9tnOmUDhs2kk"
      }
    },
    {
      "cell_type": "code",
      "source": [
        "import tensorflow as tf\n",
        "autoencoder = tf.keras.models.load_model('mnist_AE.h5')\n",
        "reconstructed_images = autoencoder.predict(test_images)"
      ],
      "metadata": {
        "colab": {
          "base_uri": "https://localhost:8080/"
        },
        "id": "IAIyTfCVw-Yk",
        "outputId": "6bb1af0b-3553-4ac7-8e59-3ff983a1653e"
      },
      "execution_count": null,
      "outputs": [
        {
          "output_type": "stream",
          "name": "stdout",
          "text": [
            "313/313 [==============================] - 2s 5ms/step\n"
          ]
        }
      ]
    },
    {
      "cell_type": "markdown",
      "source": [
        "#showing 4 pictures with their new pictures"
      ],
      "metadata": {
        "id": "cP9XSCh0x29Y"
      }
    },
    {
      "cell_type": "code",
      "source": [
        "import matplotlib.pyplot as plt\n",
        "img_1 = test_images[154].reshape((28, 28))\n",
        "new_img_1 = reconstructed_images[154].reshape((28, 28))\n",
        "img_2 = test_images[274].reshape((28, 28))\n",
        "new_img_2 = reconstructed_images[274].reshape((28, 28))\n",
        "img_3 = test_images[399].reshape((28, 28))\n",
        "new_img_3 = reconstructed_images[399].reshape((28, 28))\n",
        "img_4 = test_images[712].reshape((28, 28))\n",
        "new_img_4 = reconstructed_images[712].reshape((28, 28))\n",
        "\n",
        "fig, axes = plt.subplots(nrows=4, ncols=2, figsize=(12, 6))\n",
        "\n",
        "axes[0, 0].imshow(img_1, cmap='gray', interpolation='nearest')\n",
        "axes[0, 1].imshow(new_img_1, cmap='gray', interpolation='nearest')\n",
        "axes[1, 0].imshow(img_2, cmap='gray', interpolation='nearest')\n",
        "axes[1, 1].imshow(new_img_2, cmap='gray', interpolation='nearest')\n",
        "axes[2, 0].imshow(img_3, cmap='gray', interpolation='nearest')\n",
        "axes[2, 1].imshow(new_img_3, cmap='gray', interpolation='nearest')\n",
        "axes[3, 0].imshow(img_4, cmap='gray', interpolation='nearest')\n",
        "axes[3, 1].imshow(new_img_4, cmap='gray', interpolation='nearest')\n",
        "\n",
        "\n",
        "plt.show()"
      ],
      "metadata": {
        "colab": {
          "base_uri": "https://localhost:8080/",
          "height": 526
        },
        "id": "boSX295ixw-S",
        "outputId": "3f26e7d2-b7e2-4817-d6da-e5a53c2af9a5"
      },
      "execution_count": null,
      "outputs": [
        {
          "output_type": "display_data",
          "data": {
            "text/plain": [
              "<Figure size 1200x600 with 8 Axes>"
            ],
            "image/png": "[encoded data removed]"
          },
          "metadata": {}
        }
      ]
    },
    {
      "cell_type": "markdown",
      "source": [
        "#funcion for calculating MSE"
      ],
      "metadata": {
        "id": "ji7MHmlf2Nbw"
      }
    },
    {
      "cell_type": "code",
      "source": [
        "def MSE_calculator(new_array, old_array):\n",
        "  difference_array = new_array - old_array\n",
        "  difference_array = np.square(difference_array)\n",
        "\n",
        "  MSE = np.sum(difference_array) / len(test_images)\n",
        "  return MSE"
      ],
      "metadata": {
        "id": "ECsPs45J2P5r"
      },
      "execution_count": null,
      "outputs": []
    },
    {
      "cell_type": "markdown",
      "source": [
        "#calculationg all MSEs"
      ],
      "metadata": {
        "id": "hdQkrwns4Jpm"
      }
    },
    {
      "cell_type": "code",
      "source": [
        "list_of_MSEs = []\n",
        "for i in range(len(test_images)):\n",
        "  temp_MSE = MSE_calculator(reconstructed_images[i], test_images[i])\n",
        "  list_of_MSEs.append(temp_MSE)"
      ],
      "metadata": {
        "id": "f79uP_Ky4L_K"
      },
      "execution_count": null,
      "outputs": []
    },
    {
      "cell_type": "markdown",
      "source": [
        "#showing their histogram"
      ],
      "metadata": {
        "id": "WvJLipIe41_j"
      }
    },
    {
      "cell_type": "code",
      "source": [
        "plt.hist(list_of_MSEs, bins='auto', edgecolor='black')\n",
        "plt.title('Histogram of MSEs', color='b')\n",
        "plt.xlabel('MSE')\n",
        "plt.ylabel('Frequency')\n",
        "plt.grid(True)\n",
        "plt.show()"
      ],
      "metadata": {
        "colab": {
          "base_uri": "https://localhost:8080/",
          "height": 472
        },
        "id": "SjfgxKw341l6",
        "outputId": "a577dbc8-f5c0-4965-8d9c-29e61c8f51a2"
      },
      "execution_count": null,
      "outputs": [
        {
          "output_type": "display_data",
          "data": {
            "text/plain": [
              "<Figure size 640x480 with 1 Axes>"
            ],
            "image/png": "[encoded data removed]"
          },
          "metadata": {}
        }
      ]
    },
    {
      "cell_type": "markdown",
      "source": [
        "#calculating mean and variance"
      ],
      "metadata": {
        "id": "Ci70mhUk65eY"
      }
    },
    {
      "cell_type": "code",
      "source": [
        "import math\n",
        "sum_of_MSEs = 0\n",
        "for item in list_of_MSEs:\n",
        "  sum_of_MSEs += item\n",
        "sample_mean = sum_of_MSEs / len(list_of_MSEs)\n",
        "\n",
        "sum_of_sqr_diffs = 0\n",
        "for item in list_of_MSEs:\n",
        "  temp = (item - sample_mean) ** 2\n",
        "  sum_of_sqr_diffs += temp\n",
        "sample_variance = sum_of_sqr_diffs / len(list_of_MSEs)\n",
        "sample_sd = math.sqrt(sample_variance)"
      ],
      "metadata": {
        "id": "2iwzd1U16_aJ"
      },
      "execution_count": null,
      "outputs": []
    },
    {
      "cell_type": "markdown",
      "source": [
        "#doing goodness of fit test"
      ],
      "metadata": {
        "id": "_mMH8cmQ9eI4"
      }
    },
    {
      "cell_type": "code",
      "source": [
        "from scipy import stats\n",
        "ks_statistic, p_value = stats.kstest(list_of_MSEs, cdf='norm', args=(sample_mean, sample_sd))\n",
        "\n",
        "print(\"p_value = \", p_value)"
      ],
      "metadata": {
        "colab": {
          "base_uri": "https://localhost:8080/"
        },
        "id": "NJAFMdtL9idp",
        "outputId": "baaaf613-854e-4298-b548-22e47123e533"
      },
      "execution_count": null,
      "outputs": [
        {
          "output_type": "stream",
          "name": "stdout",
          "text": [
            "p_value =  4.5381852339995085e-43\n"
          ]
        }
      ]
    },
    {
      "cell_type": "code",
      "source": [
        "floating_point_number = 4.5381852339995085e-43\n",
        "\n",
        "# Convert to integer\n",
        "integer_value = int(floating_point_number)\n",
        "\n",
        "print(\"Floating-point number:\", floating_point_number)\n",
        "print(\"Integer value:\", integer_value)"
      ],
      "metadata": {
        "colab": {
          "base_uri": "https://localhost:8080/"
        },
        "id": "PxnGDntJ-IEE",
        "outputId": "1141da2b-eb1a-4601-f525-783125834be0"
      },
      "execution_count": null,
      "outputs": [
        {
          "output_type": "stream",
          "name": "stdout",
          "text": [
            "Floating-point number: 4.5381852339995085e-43\n",
            "Integer value: 0\n"
          ]
        }
      ]
    }
  ]
}